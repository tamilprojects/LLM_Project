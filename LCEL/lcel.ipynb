{
 "cells": [
  {
   "cell_type": "code",
   "execution_count": 1,
   "metadata": {},
   "outputs": [],
   "source": [
    "import os \n",
    "from dotenv import load_dotenv\n",
    "load_dotenv()\n",
    "groq_api_key = os.getenv(\"GROQ_API_KEY\")"
   ]
  },
  {
   "cell_type": "code",
   "execution_count": 3,
   "metadata": {},
   "outputs": [],
   "source": [
    "from langchain_groq import ChatGroq\n",
    "model = ChatGroq(model=\"gemma2-9b-it\", groq_api_key=groq_api_key)"
   ]
  },
  {
   "cell_type": "code",
   "execution_count": 4,
   "metadata": {},
   "outputs": [],
   "source": [
    "from langchain_core.messages import SystemMessage, HumanMessage\n",
    "\n",
    "messages = [\n",
    "\tSystemMessage(content=\"Translate the following from english to french\"),\n",
    "\tHumanMessage(content=\"Hi how are you\")\n",
    "]\n"
   ]
  },
  {
   "cell_type": "code",
   "execution_count": 5,
   "metadata": {},
   "outputs": [
    {
     "data": {
      "text/plain": [
       "AIMessage(content='The most common translation of \"Hi how are you\" in French is:\\n\\n**Salut, comment vas-tu ?** (informal)\\n\\nYou can also use:\\n\\n* **Bonjour, comment allez-vous ?** (formal) \\n\\n\\n\\nLet me know if you have any other phrases you\\'d like translated!\\n', additional_kwargs={}, response_metadata={'token_usage': {'completion_tokens': 69, 'prompt_tokens': 20, 'total_tokens': 89, 'completion_time': 0.125454545, 'prompt_time': 0.0001343, 'queue_time': 0.01347624, 'total_time': 0.125588845}, 'model_name': 'gemma2-9b-it', 'system_fingerprint': 'fp_10c08bf97d', 'finish_reason': 'stop', 'logprobs': None}, id='run-70a70f81-f0e0-4d9a-8c9d-9145c7915205-0', usage_metadata={'input_tokens': 20, 'output_tokens': 69, 'total_tokens': 89})"
      ]
     },
     "execution_count": 5,
     "metadata": {},
     "output_type": "execute_result"
    }
   ],
   "source": [
    "result = model.invoke(messages)\n",
    "result"
   ]
  },
  {
   "cell_type": "code",
   "execution_count": 6,
   "metadata": {},
   "outputs": [
    {
     "data": {
      "text/plain": [
       "langchain_core.messages.ai.AIMessage"
      ]
     },
     "execution_count": 6,
     "metadata": {},
     "output_type": "execute_result"
    }
   ],
   "source": [
    "type(result)"
   ]
  },
  {
   "cell_type": "code",
   "execution_count": 7,
   "metadata": {},
   "outputs": [
    {
     "data": {
      "text/plain": [
       "'The most common translation of \"Hi how are you\" in French is:\\n\\n**Salut, comment vas-tu ?** (informal)\\n\\nYou can also use:\\n\\n* **Bonjour, comment allez-vous ?** (formal) \\n\\n\\n\\nLet me know if you have any other phrases you\\'d like translated!\\n'"
      ]
     },
     "execution_count": 7,
     "metadata": {},
     "output_type": "execute_result"
    }
   ],
   "source": [
    "from langchain_core.output_parsers import StrOutputParser\n",
    "parser = StrOutputParser()\n",
    "parser.invoke(result)"
   ]
  },
  {
   "cell_type": "code",
   "execution_count": 8,
   "metadata": {},
   "outputs": [
    {
     "data": {
      "text/plain": [
       "'The translation of \"Hi, how are you?\" to French depends on the level of formality you want to use:\\n\\n**Informal:**\\n\\n* **Salut, comment vas-tu ?** (This is the most common way to say it to someone you know well.)\\n\\n**Formal:**\\n\\n* **Bonjour, comment allez-vous ?** (This is more formal and would be used with someone you don\\'t know well or someone older than you.)\\n\\n\\nLet me know if you\\'d like other variations!\\n'"
      ]
     },
     "execution_count": 8,
     "metadata": {},
     "output_type": "execute_result"
    }
   ],
   "source": [
    "chain = model|parser\n",
    "chain.invoke(messages)"
   ]
  },
  {
   "cell_type": "code",
   "execution_count": 9,
   "metadata": {},
   "outputs": [],
   "source": [
    "from langchain_core.prompts import ChatPromptTemplate\n",
    "prompt = ChatPromptTemplate.from_messages\n",
    "(\n",
    "\t[\n",
    "\t\t(\"system\", \"translate the follwoing into {language}\"),\n",
    "  \t(\"user\", \"{text}\")\n",
    "\t]\n",
    ")"
   ]
  },
  {
   "cell_type": "code",
   "execution_count": 11,
   "metadata": {},
   "outputs": [
    {
     "data": {
      "text/plain": [
       "[SystemMessage(content='translate the follwoing into arabic', additional_kwargs={}, response_metadata={}),\n",
       " HumanMessage(content='Hi how are you', additional_kwargs={}, response_metadata={})]"
      ]
     },
     "execution_count": 11,
     "metadata": {},
     "output_type": "execute_result"
    }
   ],
   "source": [
    "result = prompt.invoke({\"language\": \"arabic\", \"text\": \"Hi how are you\"})\n",
    "result.to_messages()"
   ]
  },
  {
   "cell_type": "code",
   "execution_count": 12,
   "metadata": {},
   "outputs": [
    {
     "data": {
      "text/plain": [
       "'The most common translation of \"How are you?\" in Italian is:\\n\\n**Come stai?** (informal)\\n\\n**Come sta?** (formal, singular)\\n\\n**Come state?** (formal, plural) \\n\\n\\nLet me know if you\\'d like to know other ways to say it!\\n'"
      ]
     },
     "execution_count": 12,
     "metadata": {},
     "output_type": "execute_result"
    }
   ],
   "source": [
    "chain = prompt|model|parser\n",
    "chain.invoke({\"language\":\"Italian\",\"text\": \"How are you\"})"
   ]
  }
 ],
 "metadata": {
  "kernelspec": {
   "display_name": "myenv",
   "language": "python",
   "name": "python3"
  },
  "language_info": {
   "codemirror_mode": {
    "name": "ipython",
    "version": 3
   },
   "file_extension": ".py",
   "mimetype": "text/x-python",
   "name": "python",
   "nbconvert_exporter": "python",
   "pygments_lexer": "ipython3",
   "version": "3.10.0"
  }
 },
 "nbformat": 4,
 "nbformat_minor": 2
}
